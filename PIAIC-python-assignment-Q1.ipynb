{
 "cells": [
  {
   "cell_type": "code",
   "execution_count": 1,
   "metadata": {},
   "outputs": [
    {
     "name": "stdout",
     "output_type": "stream",
     "text": [
      "enter value of radius0.5\n",
      "area of a circle = 1.570795\n"
     ]
    }
   ],
   "source": [
    "# Q1- Calculate Area of a circle?\n",
    "pi= 3.14159\n",
    "radius= float(input(\"enter value of radius\"))\n",
    "area= pi*radius\n",
    "print(\"area of a circle =\", area)"
   ]
  },
  {
   "cell_type": "code",
   "execution_count": 5,
   "metadata": {},
   "outputs": [
    {
     "name": "stdout",
     "output_type": "stream",
     "text": [
      "enter number:-8\n",
      "negative number\n"
     ]
    }
   ],
   "source": [
    "# Q2-Check number either positive , negative or zero?\n",
    "number=float(input(\"enter number:\"))\n",
    "if number>0:\n",
    "    print(\"positive number\")\n",
    "elif number<0:\n",
    "    print(\"negative number\")\n",
    "else:\n",
    "    print(\"entered number is zero\")"
   ]
  },
  {
   "cell_type": "code",
   "execution_count": 7,
   "metadata": {},
   "outputs": [
    {
     "name": "stdout",
     "output_type": "stream",
     "text": [
      "enter divider4\n",
      "enter dividend24\n",
      "number 24 is compeletely divided by 4\n"
     ]
    }
   ],
   "source": [
    "# Q3- Divisibility check of two numbers?\n",
    "divider=int(input(\"enter divider\"))\n",
    "dividend=int(input(\"enter dividend\"))\n",
    "if dividend%divider==0:\n",
    "    print(\"number\", dividend, \"is compeletely divided by\", divider)\n",
    "else:\n",
    "    print(\"number\", dividend, \"is not compeletely divided by\", divider)"
   ]
  },
  {
   "cell_type": "code",
   "execution_count": 2,
   "metadata": {},
   "outputs": [
    {
     "name": "stdout",
     "output_type": "stream",
     "text": [
      "enter start date in (dd/mm/yy)format:12/8/2019\n",
      "enter end date in (dd/mm/yy)format:20/10/2019\n"
     ]
    },
    {
     "ename": "ValueError",
     "evalue": "unconverted data remains: 19",
     "output_type": "error",
     "traceback": [
      "\u001b[1;31m---------------------------------------------------------------------------\u001b[0m",
      "\u001b[1;31mValueError\u001b[0m                                Traceback (most recent call last)",
      "\u001b[1;32m<ipython-input-2-ec23040b09f3>\u001b[0m in \u001b[0;36m<module>\u001b[1;34m\u001b[0m\n\u001b[0;32m      5\u001b[0m \u001b[0mend_date\u001b[0m\u001b[1;33m=\u001b[0m \u001b[0minput\u001b[0m\u001b[1;33m(\u001b[0m\u001b[1;34m\"enter end date in (dd/mm/yy)format:\"\u001b[0m\u001b[1;33m)\u001b[0m\u001b[1;33m\u001b[0m\u001b[1;33m\u001b[0m\u001b[0m\n\u001b[0;32m      6\u001b[0m \u001b[1;33m\u001b[0m\u001b[0m\n\u001b[1;32m----> 7\u001b[1;33m \u001b[0mfinal_start_date\u001b[0m\u001b[1;33m=\u001b[0m \u001b[0mdatetime\u001b[0m\u001b[1;33m.\u001b[0m\u001b[0mstrptime\u001b[0m\u001b[1;33m(\u001b[0m\u001b[0mstart_date\u001b[0m\u001b[1;33m,\u001b[0m \u001b[1;34m\"%d/%m/%y\"\u001b[0m\u001b[1;33m)\u001b[0m\u001b[1;33m.\u001b[0m\u001b[0mdate\u001b[0m\u001b[1;33m(\u001b[0m\u001b[1;33m)\u001b[0m\u001b[1;33m\u001b[0m\u001b[1;33m\u001b[0m\u001b[0m\n\u001b[0m\u001b[0;32m      8\u001b[0m \u001b[0mfinal_end_date\u001b[0m\u001b[1;33m=\u001b[0m \u001b[0mdatetime\u001b[0m\u001b[1;33m.\u001b[0m\u001b[0mstrptime\u001b[0m\u001b[1;33m(\u001b[0m\u001b[0mend_date\u001b[0m\u001b[1;33m,\u001b[0m \u001b[1;34m\"%d/%m/%y\"\u001b[0m\u001b[1;33m)\u001b[0m\u001b[1;33m.\u001b[0m\u001b[0mdate\u001b[0m\u001b[1;33m(\u001b[0m\u001b[1;33m)\u001b[0m\u001b[1;33m\u001b[0m\u001b[1;33m\u001b[0m\u001b[0m\n\u001b[0;32m      9\u001b[0m \u001b[1;33m\u001b[0m\u001b[0m\n",
      "\u001b[1;32m~\\Anaconda3\\lib\\_strptime.py\u001b[0m in \u001b[0;36m_strptime_datetime\u001b[1;34m(cls, data_string, format)\u001b[0m\n\u001b[0;32m    575\u001b[0m     \"\"\"Return a class cls instance based on the input string and the\n\u001b[0;32m    576\u001b[0m     format string.\"\"\"\n\u001b[1;32m--> 577\u001b[1;33m     \u001b[0mtt\u001b[0m\u001b[1;33m,\u001b[0m \u001b[0mfraction\u001b[0m\u001b[1;33m,\u001b[0m \u001b[0mgmtoff_fraction\u001b[0m \u001b[1;33m=\u001b[0m \u001b[0m_strptime\u001b[0m\u001b[1;33m(\u001b[0m\u001b[0mdata_string\u001b[0m\u001b[1;33m,\u001b[0m \u001b[0mformat\u001b[0m\u001b[1;33m)\u001b[0m\u001b[1;33m\u001b[0m\u001b[1;33m\u001b[0m\u001b[0m\n\u001b[0m\u001b[0;32m    578\u001b[0m     \u001b[0mtzname\u001b[0m\u001b[1;33m,\u001b[0m \u001b[0mgmtoff\u001b[0m \u001b[1;33m=\u001b[0m \u001b[0mtt\u001b[0m\u001b[1;33m[\u001b[0m\u001b[1;33m-\u001b[0m\u001b[1;36m2\u001b[0m\u001b[1;33m:\u001b[0m\u001b[1;33m]\u001b[0m\u001b[1;33m\u001b[0m\u001b[1;33m\u001b[0m\u001b[0m\n\u001b[0;32m    579\u001b[0m     \u001b[0margs\u001b[0m \u001b[1;33m=\u001b[0m \u001b[0mtt\u001b[0m\u001b[1;33m[\u001b[0m\u001b[1;33m:\u001b[0m\u001b[1;36m6\u001b[0m\u001b[1;33m]\u001b[0m \u001b[1;33m+\u001b[0m \u001b[1;33m(\u001b[0m\u001b[0mfraction\u001b[0m\u001b[1;33m,\u001b[0m\u001b[1;33m)\u001b[0m\u001b[1;33m\u001b[0m\u001b[1;33m\u001b[0m\u001b[0m\n",
      "\u001b[1;32m~\\Anaconda3\\lib\\_strptime.py\u001b[0m in \u001b[0;36m_strptime\u001b[1;34m(data_string, format)\u001b[0m\n\u001b[0;32m    360\u001b[0m     \u001b[1;32mif\u001b[0m \u001b[0mlen\u001b[0m\u001b[1;33m(\u001b[0m\u001b[0mdata_string\u001b[0m\u001b[1;33m)\u001b[0m \u001b[1;33m!=\u001b[0m \u001b[0mfound\u001b[0m\u001b[1;33m.\u001b[0m\u001b[0mend\u001b[0m\u001b[1;33m(\u001b[0m\u001b[1;33m)\u001b[0m\u001b[1;33m:\u001b[0m\u001b[1;33m\u001b[0m\u001b[1;33m\u001b[0m\u001b[0m\n\u001b[0;32m    361\u001b[0m         raise ValueError(\"unconverted data remains: %s\" %\n\u001b[1;32m--> 362\u001b[1;33m                           data_string[found.end():])\n\u001b[0m\u001b[0;32m    363\u001b[0m \u001b[1;33m\u001b[0m\u001b[0m\n\u001b[0;32m    364\u001b[0m     \u001b[0miso_year\u001b[0m \u001b[1;33m=\u001b[0m \u001b[0myear\u001b[0m \u001b[1;33m=\u001b[0m \u001b[1;32mNone\u001b[0m\u001b[1;33m\u001b[0m\u001b[1;33m\u001b[0m\u001b[0m\n",
      "\u001b[1;31mValueError\u001b[0m: unconverted data remains: 19"
     ]
    }
   ],
   "source": [
    "# Q4- Days calculator?\n",
    "from datetime import datetime\n",
    "\n",
    "start_date= input(\"enter start date in (dd/mm/yy)format:\")\n",
    "end_date= input(\"enter end date in (dd/mm/yy)format:\")\n",
    "\n",
    "final_start_date= datetime.strptime(start_date, \"%d/%m/%y\").date()\n",
    "final_end_date= datetime.strptime(end_date, \"%d/%m/%y\").date()\n",
    "\n",
    "remaining_days= final_end_date-final_start_date\n",
    "\n",
    "print(\"There are\", remaining_days.days, \"days between\", final_start_date, \"and\", end_start_date)"
   ]
  },
  {
   "cell_type": "code",
   "execution_count": 3,
   "metadata": {},
   "outputs": [
    {
     "name": "stdout",
     "output_type": "stream",
     "text": [
      "Enter a date in (dd/mm/yy) format: 21/05/2019\n",
      "Enter a date in (dd/mm/yy) format: 19/10/2019\n",
      "There are  151 days between  2019-05-21  and  2019-10-19\n"
     ]
    }
   ],
   "source": [
    "#Q4- Days Calculator?\n",
    "\n",
    "from datetime import datetime\n",
    "\n",
    "startDate = input(\"Enter a date in (dd/mm/yy) format: \")\n",
    "endDate = input(\"Enter a date in (dd/mm/yy) format: \")\n",
    "\n",
    "finalstartDate = datetime.strptime(startDate,\"%d/%m/%Y\").date()\n",
    "finalendDate = datetime.strptime(endDate,\"%d/%m/%Y\").date()\n",
    "\n",
    "remainingDays = finalendDate - finalstartDate\n",
    "\n",
    "print (\"There are \", remainingDays.days, \"days between \", finalstartDate,\" and \",finalendDate)"
   ]
  },
  {
   "cell_type": "code",
   "execution_count": 4,
   "metadata": {},
   "outputs": [
    {
     "name": "stdout",
     "output_type": "stream",
     "text": [
      "Enter value of radius: 7\n",
      "Volume of the Sphere with Radius is:  1436.7538266666666\n"
     ]
    }
   ],
   "source": [
    "#Q5- Calculate Volume Of Sphere?\n",
    "pi= 3.14159\n",
    "radius = float(input(\"Enter value of radius: \"))\n",
    "volume = 4.0/3.0*pi*radius**3\n",
    "print(\"Volume of the Sphere with Radius is: \",volume)"
   ]
  },
  {
   "cell_type": "code",
   "execution_count": 5,
   "metadata": {},
   "outputs": [
    {
     "name": "stdout",
     "output_type": "stream",
     "text": [
      "Enter String: jamshed\n",
      "How many copies of String you need: 6\n",
      "jamshedjamshedjamshedjamshedjamshedjamshed\n"
     ]
    }
   ],
   "source": [
    "#Q6- Copy string n times?\n",
    "a = str(input(\"Enter String: \"))\n",
    "result = \"\"\n",
    "b = int(input(\"How many copies of String you need: \"))\n",
    "print(b*a)"
   ]
  },
  {
   "cell_type": "code",
   "execution_count": 6,
   "metadata": {},
   "outputs": [
    {
     "name": "stdout",
     "output_type": "stream",
     "text": [
      "Enter Number: 22\n",
      "22 is Even\n"
     ]
    }
   ],
   "source": [
    "#Q7- check if number is even or odd?\n",
    "num = int(input(\"Enter Number: \"))\n",
    "mod = num % 2\n",
    "if mod > 0:\n",
    "    print(num,\"is Odd\")\n",
    "else:\n",
    "    print(num,\"is Even\")"
   ]
  },
  {
   "cell_type": "code",
   "execution_count": 1,
   "metadata": {},
   "outputs": [
    {
     "name": "stdout",
     "output_type": "stream",
     "text": [
      "Enter A Character:z\n",
      "z  is not Vowel\n"
     ]
    }
   ],
   "source": [
    "#Q8- Vowel tester.\n",
    "vowels = ['A','E','I','O','U','a','e','i','o','u']\n",
    "\n",
    "userInput = input(\"Enter A Character:\")\n",
    "\n",
    "if userInput in vowels:\n",
    "    print(userInput, \" is Vowel\")\n",
    "else:\n",
    "    print(userInput,\" is not Vowel\")"
   ]
  },
  {
   "cell_type": "code",
   "execution_count": 2,
   "metadata": {},
   "outputs": [
    {
     "name": "stdout",
     "output_type": "stream",
     "text": [
      "Enter magnitude of Triangle base: 5\n",
      "Enter Magnitude of Triangle Height: 6\n",
      "Area of a Triangle with Height  6.0  and Base  5.0  is:  15.0\n"
     ]
    }
   ],
   "source": [
    "#Q9- Triangle area.\n",
    "magBase = float(input(\"Enter magnitude of Triangle base: \"))\n",
    "magHeight = float(input(\"Enter Magnitude of Triangle Height: \"))\n",
    "area = magBase*magHeight/2\n",
    "print(\"Area of a Triangle with Height \",magHeight, \" and Base \",magBase,\" is: \",area)"
   ]
  },
  {
   "cell_type": "code",
   "execution_count": 3,
   "metadata": {},
   "outputs": [
    {
     "name": "stdout",
     "output_type": "stream",
     "text": [
      "Please enter principal amount: 10000\n",
      "Please Enter Rate of interest in %: 2\n",
      "Enter number of years for investment: 5\n",
      "2430000.0\n"
     ]
    }
   ],
   "source": [
    "#Q10- Calculate interest?\n",
    "p = float(input(\"Please enter principal amount: \"))\n",
    "r = float(input(\"Please Enter Rate of interest in %: \"))\n",
    "t = float(input(\"Enter number of years for investment: \"))\n",
    "#a = p* (1 + r/100)**2\n",
    "a = p* (pow((1 + r*100 / 100), t))\n",
    "print(a)"
   ]
  },
  {
   "cell_type": "code",
   "execution_count": 5,
   "metadata": {},
   "outputs": [
    {
     "name": "stdout",
     "output_type": "stream",
     "text": [
      "Enter Co-Ordinate For x1 :4\n",
      "Enter Co-Ordinate For x2 :6\n",
      "Enter Co-Ordinate For y1 :5\n",
      "Enter Co-Ordinate For y2 :3\n",
      "3.1622776601683795\n"
     ]
    }
   ],
   "source": [
    "#Q11- Eucliden distance.\n",
    "import math\n",
    "x1 = int(input(\"Enter Co-Ordinate For x1 :\"))\n",
    "x2 = int(input(\"Enter Co-Ordinate For x2 :\"))\n",
    "y1 = int(input(\"Enter Co-Ordinate For y1 :\"))\n",
    "y2 = int(input(\"Enter Co-Ordinate For y2 :\"))\n",
    "\n",
    "distance = math.sqrt( ((x1-y1)**2)+((x2-y2)**2) )\n",
    "\n",
    "print(distance)"
   ]
  },
  {
   "cell_type": "code",
   "execution_count": 2,
   "metadata": {},
   "outputs": [
    {
     "name": "stdout",
     "output_type": "stream",
     "text": [
      "Enter Height in feet6\n",
      "There are  182.88  cm in  6.0  ft\n"
     ]
    }
   ],
   "source": [
    "#Q12- feet to centimeter converter.\n",
    "\n",
    "userHeight = float(input(\"Enter Height in feet\"))\n",
    "\n",
    "totalCm = userHeight * 30.48\n",
    "\n",
    "print(\"There are \",totalCm , \" cm in \",userHeight,\" ft\")"
   ]
  },
  {
   "cell_type": "code",
   "execution_count": 3,
   "metadata": {},
   "outputs": [
    {
     "name": "stdout",
     "output_type": "stream",
     "text": [
      "Enter Your Height in Cm222\n",
      "Enter Your Weight in kg65\n",
      "13.188864540215889\n"
     ]
    }
   ],
   "source": [
    "#Q13- BMI calculator\n",
    "userHeight = float(input(\"Enter Your Height in Cm\"))\n",
    "userWeight = float(input(\"Enter Your Weight in kg\"))\n",
    "\n",
    "heightInMeters = userHeight * 0.01\n",
    "totalBmi = userWeight / (heightInMeters * heightInMeters)\n",
    "print(totalBmi)"
   ]
  },
  {
   "cell_type": "code",
   "execution_count": 4,
   "metadata": {},
   "outputs": [
    {
     "name": "stdout",
     "output_type": "stream",
     "text": [
      "Enter Number Of n:6\n",
      "21\n"
     ]
    }
   ],
   "source": [
    "#Q14- Sum of a positive integer\n",
    "sumNumber = 0\n",
    "\n",
    "userNumber =int(input(\"Enter Number Of n:\"))\n",
    "if userNumber >=0:\n",
    "    total = int(userNumber * (userNumber + 1)/2)\n",
    "    print(total)\n",
    "else:\n",
    "    print(userNumber,\" is not positive Number\")"
   ]
  },
  {
   "cell_type": "code",
   "execution_count": 6,
   "metadata": {},
   "outputs": [
    {
     "name": "stdout",
     "output_type": "stream",
     "text": [
      "Enter a Number5296\n",
      "5 + 2 + 9 + 6\n",
      "Sum Of  5 + 2 + 9 + 6  is  22\n"
     ]
    }
   ],
   "source": [
    "#Q15- digits sum of number\n",
    "number =int(input(\"Enter a Number\"))\n",
    "sumnum = str(number)\n",
    "lst = list(sumnum)\n",
    "totalDigits = ' + '.join(sumnum)\n",
    "\n",
    "print(totalDigits)\n",
    "total = 0\n",
    "while number>0:\n",
    "    digit = number%10\n",
    "    total = total+digit\n",
    "    number = number//10\n",
    "print(\"Sum Of \", totalDigits, \" is \", total)"
   ]
  },
  {
   "cell_type": "code",
   "execution_count": 8,
   "metadata": {},
   "outputs": [
    {
     "name": "stdout",
     "output_type": "stream",
     "text": [
      "Enter a decimal number 97\n",
      "Binary Representation of  97  is  1000011 "
     ]
    }
   ],
   "source": [
    "#16 Decimal To Binary Converter\n",
    "\n",
    "decimalNumber = int(input(\"Enter a decimal number \"))\n",
    "finalDecimalNumber = decimalNumber\n",
    "\n",
    "# to store binary numbers in list\n",
    "array=[]\n",
    "\n",
    "while(decimalNumber>0):\n",
    "    digit=decimalNumber%2\n",
    "    array.append(digit)\n",
    "    decimalNumber=decimalNumber//2\n",
    "    \n",
    "    # Converting integer list to string list\n",
    "    s = [str(i) for i in array] \n",
    "      \n",
    "    # Join list items using join() \n",
    "    res = int(\"\".join(s))     \n",
    "array.reverse()\n",
    "\n",
    "print(\"Binary Representation of \", finalDecimalNumber,\" is \",res,end=\" \")"
   ]
  },
  {
   "cell_type": "code",
   "execution_count": 9,
   "metadata": {},
   "outputs": [
    {
     "name": "stdout",
     "output_type": "stream",
     "text": [
      "Enter a Binary number 10011001\n",
      "Decimal Representation of  10011001  is  153\n"
     ]
    }
   ],
   "source": [
    "#17 Binary To Decimal Converter\n",
    "\n",
    "binaryNumber = input(\"Enter a Binary number \")\n",
    "binaryNumberList = list(binaryNumber)\n",
    "defaultValue = 0\n",
    "actualNumber = str(binaryNumber)\n",
    "\n",
    "\n",
    "\n",
    "for d in range(len(binaryNumberList)):\n",
    "    numbers = binaryNumberList.pop()\n",
    "    if numbers == '1':\n",
    "        defaultValue = defaultValue + pow(2, d)\n",
    "print(\"Decimal Representation of \", actualNumber,\" is \" ,defaultValue)"
   ]
  },
  {
   "cell_type": "code",
   "execution_count": null,
   "metadata": {},
   "outputs": [],
   "source": []
  }
 ],
 "metadata": {
  "kernelspec": {
   "display_name": "Python 3",
   "language": "python",
   "name": "python3"
  }
 },
 "nbformat": 4,
 "nbformat_minor": 2
}
