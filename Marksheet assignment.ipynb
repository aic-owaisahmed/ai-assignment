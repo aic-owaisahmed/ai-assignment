{
 "cells": [
  {
   "cell_type": "code",
   "execution_count": 11,
   "metadata": {},
   "outputs": [
    {
     "name": "stdout",
     "output_type": "stream",
     "text": [
      "maths marks77\n",
      "chemistry marks69\n",
      "physics marks75\n",
      "computer marks81\n",
      "english marks65\n"
     ]
    }
   ],
   "source": [
    "with open (\"marksheet.txt\", \"w\") as h:\n",
    "    title=\"--------------MarkSheet------------\"\n",
    "    particular =\"------Amir------\"\n",
    "    idnum  =\"1122\"\n",
    "    sub1= (int(input(\"maths marks\")))\n",
    "    sub2= (int(input(\"chemistry marks\")))\n",
    "    sub3= (int(input(\"physics marks\")))\n",
    "    sub4= (int(input(\"computer marks\")))\n",
    "    sub5= (int(input(\"english marks\")))\n",
    "    total_marks= 500\n",
    "    obtained_marks= sub1+sub2+sub3+sub4+sub5\n",
    "    total_percentage= (obtained_marks/total_marks*100)\n",
    "    if (total_percentage>=80):\n",
    "        grade=\"A+\"\n",
    "    elif (total_percentage>=70 and total_percentage<80):\n",
    "        grade=\"A\"\n",
    "    elif (total_percentage>=60 and total_percentage<70):\n",
    "        grade=\"B\"\n",
    "    elif (total_percentage>=50 and total_percentage<60):\n",
    "        grade=\"C\"\n",
    "    else:\n",
    "        grade=\"Fail\"\n",
    "    h.write (title)\n",
    "    h.write (\"\\n\")\n",
    "    h.write (\"Name=\"+particular)\n",
    "    h.write (\"\\n\")\n",
    "    h.write (\"rollnum=\"+idnum)\n",
    "    h.write (\"\\n\")\n",
    "    h.write (\"Maths=\"+str(sub1))\n",
    "    h.write (\"\\n\")\n",
    "    h.write (\"Chemistry=\"+str(sub2))\n",
    "    h.write (\"\\n\")\n",
    "    h.write (\"Physics=\"+str(sub3))\n",
    "    h.write (\"\\n\")\n",
    "    h.write (\"Computer=\"+str(sub4))\n",
    "    h.write (\"\\n\")\n",
    "    h.write (\"English=\"+str(sub5))\n",
    "    h.write (\"\\n\")\n",
    "    h.write (\"max marks=\"+str(total_marks))\n",
    "    h.write (\"\\n\")\n",
    "    h.write (\"Obtained marks=\"+str(obtained_marks))\n",
    "    h.write (\"\\n\")\n",
    "    h.write (\"Percentage=\"+str(total_percentage))"
   ]
  },
  {
   "cell_type": "code",
   "execution_count": null,
   "metadata": {},
   "outputs": [],
   "source": []
  }
 ],
 "metadata": {
  "kernelspec": {
   "display_name": "Python 3",
   "language": "python",
   "name": "python3"
  },
  "language_info": {
   "codemirror_mode": {
    "name": "ipython",
    "version": 3
   },
   "file_extension": ".py",
   "mimetype": "text/x-python",
   "name": "python",
   "nbconvert_exporter": "python",
   "pygments_lexer": "ipython3",
   "version": "3.7.3"
  }
 },
 "nbformat": 4,
 "nbformat_minor": 2
}
